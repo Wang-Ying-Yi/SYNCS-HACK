{
 "cells": [
  {
   "cell_type": "code",
   "execution_count": 1,
   "metadata": {},
   "outputs": [],
   "source": [
    "import pandas as pd\n",
    "import numpy as np\n",
    "from sklearn.model_selection import train_test_split\n",
    "from sklearn.preprocessing import OneHotEncoder\n",
    "from sklearn.metrics import accuracy_score\n",
    "from sklearn.tree import DecisionTreeClassifier\n"
   ]
  },
  {
   "cell_type": "code",
   "execution_count": 2,
   "metadata": {},
   "outputs": [
    {
     "name": "stdout",
     "output_type": "stream",
     "text": [
      "1.0\n"
     ]
    }
   ],
   "source": [
    "from sklearn.tree import DecisionTreeClassifier\n",
    "df = pd.read_csv('/Users/chingching/Downloads/ML decision tree/formalstyles.csv')\n",
    "for i in range (10):\n",
    "    df = pd.concat([df, df])\n",
    "X = df.loc[:, df.columns[:-1]]\n",
    "y = df.loc[:, df.columns[-1]]\n",
    "X_train, y_train, X_test, y_test = train_test_split(X, y, test_size=0.2)\n",
    "onehotencoder = OneHotEncoder()\n",
    "X_train = onehotencoder.fit_transform(X_train).toarray()\n",
    "y_train = onehotencoder.transform(y_train).toarray()\n",
    "clf = DecisionTreeClassifier(criterion='entropy')\n",
    "clf.fit(X_train, X_test)\n",
    "y_pred = clf.predict(y_train)\n",
    "#check accuracy\n",
    "print(accuracy_score(y_test, y_pred))\n"
   ]
  },
  {
   "cell_type": "code",
   "execution_count": null,
   "metadata": {},
   "outputs": [],
   "source": []
  }
 ],
 "metadata": {
  "kernelspec": {
   "display_name": "base",
   "language": "python",
   "name": "python3"
  },
  "language_info": {
   "codemirror_mode": {
    "name": "ipython",
    "version": 3
   },
   "file_extension": ".py",
   "mimetype": "text/x-python",
   "name": "python",
   "nbconvert_exporter": "python",
   "pygments_lexer": "ipython3",
   "version": "3.9.17"
  },
  "orig_nbformat": 4
 },
 "nbformat": 4,
 "nbformat_minor": 2
}
